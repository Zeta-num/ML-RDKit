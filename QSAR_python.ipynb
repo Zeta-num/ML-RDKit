{
 "cells": [
  {
   "cell_type": "code",
   "execution_count": 1,
   "id": "8b5ebc29",
   "metadata": {},
   "outputs": [],
   "source": [
    "#Pytorch NN model derived from Esben Jannik Bjerrum and Cheminformania/Wildcardconsulting.dk \n",
    "\n",
    "\n",
    "#!conda install -c anaconda scikit-learn\n",
    "\n",
    "import numpy as np\n",
    "import pandas as pd\n",
    "import matplotlib.pyplot as plt\n",
    "import torch\n",
    "import torch.nn as nn\n",
    "from sklearn.preprocessing import StandardScaler\n",
    "from sklearn.model_selection import train_test_split"
   ]
  },
  {
   "cell_type": "code",
   "execution_count": 2,
   "id": "fcad2bc6",
   "metadata": {},
   "outputs": [
    {
     "data": {
      "text/html": [
       "<div>\n",
       "<style scoped>\n",
       "    .dataframe tbody tr th:only-of-type {\n",
       "        vertical-align: middle;\n",
       "    }\n",
       "\n",
       "    .dataframe tbody tr th {\n",
       "        vertical-align: top;\n",
       "    }\n",
       "\n",
       "    .dataframe thead th {\n",
       "        text-align: right;\n",
       "    }\n",
       "</style>\n",
       "<table border=\"1\" class=\"dataframe\">\n",
       "  <thead>\n",
       "    <tr style=\"text-align: right;\">\n",
       "      <th></th>\n",
       "      <th>Ambit_InchiKey</th>\n",
       "      <th>Original_Entry_ID</th>\n",
       "      <th>Entrez_ID</th>\n",
       "      <th>Activity_Flag</th>\n",
       "      <th>pXC50</th>\n",
       "      <th>DB</th>\n",
       "      <th>Original_Assay_ID</th>\n",
       "      <th>Tax_ID</th>\n",
       "      <th>Gene_Symbol</th>\n",
       "      <th>Ortholog_Group</th>\n",
       "      <th>SMILES</th>\n",
       "    </tr>\n",
       "  </thead>\n",
       "  <tbody>\n",
       "    <tr>\n",
       "      <th>0</th>\n",
       "      <td>CZAIAVKCVKTXDB-PKRZOPRNNA-N</td>\n",
       "      <td>CHEMBL497963</td>\n",
       "      <td>3362</td>\n",
       "      <td>A</td>\n",
       "      <td>5.0000</td>\n",
       "      <td>chembl20</td>\n",
       "      <td>556323</td>\n",
       "      <td>9606</td>\n",
       "      <td>HTR6</td>\n",
       "      <td>2105</td>\n",
       "      <td>N=1C=2C=CC=C(OCCN3CCC(CC3)CC=4C=CC=C(C4)N=S(C)...</td>\n",
       "    </tr>\n",
       "    <tr>\n",
       "      <th>1</th>\n",
       "      <td>CZAYHMNNMGGUNI-HEGJIAMLNA-N</td>\n",
       "      <td>CHEMBL1834346</td>\n",
       "      <td>3362</td>\n",
       "      <td>A</td>\n",
       "      <td>7.3000</td>\n",
       "      <td>chembl20</td>\n",
       "      <td>771219</td>\n",
       "      <td>9606</td>\n",
       "      <td>HTR6</td>\n",
       "      <td>2105</td>\n",
       "      <td>C(C1(C=NN(C1)/C(=N/S(=O)(C=2C=C(C=CC2)Cl)=O)/N...</td>\n",
       "    </tr>\n",
       "    <tr>\n",
       "      <th>2</th>\n",
       "      <td>CZAYHMNNMGGUNI-YWFSPISDNA-N</td>\n",
       "      <td>56593803</td>\n",
       "      <td>3362</td>\n",
       "      <td>A</td>\n",
       "      <td>7.3019</td>\n",
       "      <td>pubchem</td>\n",
       "      <td>621208</td>\n",
       "      <td>9606</td>\n",
       "      <td>HTR6</td>\n",
       "      <td>2105</td>\n",
       "      <td>ClC=1C=C(S(=O)(=O)N/C(/N2N=CC(C2)(CC)CC)=N/CC)...</td>\n",
       "    </tr>\n",
       "    <tr>\n",
       "      <th>3</th>\n",
       "      <td>CZBRRHLYIHWSOA-UHFFFAOYNA-N</td>\n",
       "      <td>CHEMBL517503</td>\n",
       "      <td>3362</td>\n",
       "      <td>A</td>\n",
       "      <td>8.1000</td>\n",
       "      <td>chembl20</td>\n",
       "      <td>535877</td>\n",
       "      <td>9606</td>\n",
       "      <td>HTR6</td>\n",
       "      <td>2105</td>\n",
       "      <td>C=1C=2N(C=CC2C=C3C1CCNCC3)S(C=4C=CSC4)(=O)=O</td>\n",
       "    </tr>\n",
       "    <tr>\n",
       "      <th>4</th>\n",
       "      <td>CZEUYEVFOZRSCP-CQSZACIVNA-N</td>\n",
       "      <td>CHEMBL609742</td>\n",
       "      <td>3362</td>\n",
       "      <td>A</td>\n",
       "      <td>8.8900</td>\n",
       "      <td>chembl20</td>\n",
       "      <td>310551</td>\n",
       "      <td>9606</td>\n",
       "      <td>HTR6</td>\n",
       "      <td>2105</td>\n",
       "      <td>C=1C=CC(=C(C1)S(NC=2C=CC=3NC=C(C3C2)C[C@@H]4NC...</td>\n",
       "    </tr>\n",
       "  </tbody>\n",
       "</table>\n",
       "</div>"
      ],
      "text/plain": [
       "                Ambit_InchiKey Original_Entry_ID  Entrez_ID Activity_Flag  \\\n",
       "0  CZAIAVKCVKTXDB-PKRZOPRNNA-N      CHEMBL497963       3362             A   \n",
       "1  CZAYHMNNMGGUNI-HEGJIAMLNA-N     CHEMBL1834346       3362             A   \n",
       "2  CZAYHMNNMGGUNI-YWFSPISDNA-N          56593803       3362             A   \n",
       "3  CZBRRHLYIHWSOA-UHFFFAOYNA-N      CHEMBL517503       3362             A   \n",
       "4  CZEUYEVFOZRSCP-CQSZACIVNA-N      CHEMBL609742       3362             A   \n",
       "\n",
       "    pXC50        DB  Original_Assay_ID  Tax_ID Gene_Symbol  Ortholog_Group  \\\n",
       "0  5.0000  chembl20             556323    9606        HTR6            2105   \n",
       "1  7.3000  chembl20             771219    9606        HTR6            2105   \n",
       "2  7.3019   pubchem             621208    9606        HTR6            2105   \n",
       "3  8.1000  chembl20             535877    9606        HTR6            2105   \n",
       "4  8.8900  chembl20             310551    9606        HTR6            2105   \n",
       "\n",
       "                                              SMILES  \n",
       "0  N=1C=2C=CC=C(OCCN3CCC(CC3)CC=4C=CC=C(C4)N=S(C)...  \n",
       "1  C(C1(C=NN(C1)/C(=N/S(=O)(C=2C=C(C=CC2)Cl)=O)/N...  \n",
       "2  ClC=1C=C(S(=O)(=O)N/C(/N2N=CC(C2)(CC)CC)=N/CC)...  \n",
       "3       C=1C=2N(C=CC2C=C3C1CCNCC3)S(C=4C=CSC4)(=O)=O  \n",
       "4  C=1C=CC(=C(C1)S(NC=2C=CC=3NC=C(C3C2)C[C@@H]4NC...  "
      ]
     },
     "execution_count": 2,
     "metadata": {},
     "output_type": "execute_result"
    }
   ],
   "source": [
    "#usising active compound for HTR6 gene from  ExCAPE chemogenomics database\n",
    "\n",
    "file = '5HT6.csv'\n",
    "data = pd.read_csv(file)\n",
    "data.head()"
   ]
  },
  {
   "cell_type": "code",
   "execution_count": 3,
   "id": "71dfe9c1",
   "metadata": {},
   "outputs": [
    {
     "data": {
      "text/html": [
       "<div>\n",
       "<style scoped>\n",
       "    .dataframe tbody tr th:only-of-type {\n",
       "        vertical-align: middle;\n",
       "    }\n",
       "\n",
       "    .dataframe tbody tr th {\n",
       "        vertical-align: top;\n",
       "    }\n",
       "\n",
       "    .dataframe thead th {\n",
       "        text-align: right;\n",
       "    }\n",
       "</style>\n",
       "<table border=\"1\" class=\"dataframe\">\n",
       "  <thead>\n",
       "    <tr style=\"text-align: right;\">\n",
       "      <th></th>\n",
       "      <th>SMILES</th>\n",
       "      <th>Molecule</th>\n",
       "    </tr>\n",
       "  </thead>\n",
       "  <tbody>\n",
       "    <tr>\n",
       "      <th>0</th>\n",
       "      <td>N=1C=2C=CC=C(OCCN3CCC(CC3)CC=4C=CC=C(C4)N=S(C)...</td>\n",
       "      <td style=\"text-align: center;\"><img data-content=\"rdkit/molecule\" src=\"data:image/png;base64,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\" alt=\"Mol\"/></td>\n",
       "    </tr>\n",
       "  </tbody>\n",
       "</table>\n",
       "</div>"
      ],
      "text/plain": [
       "                                              SMILES  \\\n",
       "0  N=1C=2C=CC=C(OCCN3CCC(CC3)CC=4C=CC=C(C4)N=S(C)...   \n",
       "\n",
       "                                            Molecule  \n",
       "0  <img data-content=\"rdkit/molecule\" src=\"data:i...  "
      ]
     },
     "execution_count": 3,
     "metadata": {},
     "output_type": "execute_result"
    }
   ],
   "source": [
    "from rdkit import Chem, DataStructs\n",
    "from rdkit.Chem import PandasTools, AllChem\n",
    "\n",
    "# addition of RDkit molecule to pandas dataframe (which is already parsed as picture in IPythhon)\n",
    "PandasTools.AddMoleculeColumnToFrame(data,'SMILES','Molecule')\n",
    "data[[\"SMILES\",\"Molecule\"]].head(1)"
   ]
  },
  {
   "cell_type": "code",
   "execution_count": 4,
   "id": "12a6ed5d",
   "metadata": {},
   "outputs": [
    {
     "data": {
      "text/plain": [
       "0"
      ]
     },
     "execution_count": 4,
     "metadata": {},
     "output_type": "execute_result"
    }
   ],
   "source": [
    "# check if any problematic smiles was generated\n",
    "\n",
    "data.Molecule.isna().sum()"
   ]
  },
  {
   "cell_type": "code",
   "execution_count": 5,
   "id": "1a5f9e42",
   "metadata": {},
   "outputs": [
    {
     "data": {
      "image/png": "[encoded data removed]",
      "text/plain": [
       "<Figure size 288x288 with 1 Axes>"
      ]
     },
     "metadata": {
      "needs_background": "light"
     },
     "output_type": "display_data"
    }
   ],
   "source": [
    "def mol2fp(mol):\n",
    "    '''\n",
    "    Generator of Morgans fingerprint from RDkit object\n",
    "    '''\n",
    "    \n",
    "    fp = AllChem.GetHashedMorganFingerprint(mol, 2, nBits=4096)\n",
    "    ar = np.zeros((1,), dtype=np.int8)\n",
    "    DataStructs.ConvertToNumpyArray(fp, ar)\n",
    "    return ar\n",
    "     \n",
    "fp = mol2fp(Chem.MolFromSmiles(data.loc[5,\"SMILES\"]))\n",
    "_ = plt.matshow(fp.reshape((64,-1)))"
   ]
  },
  {
   "cell_type": "code",
   "execution_count": 6,
   "id": "2ebf8e4b",
   "metadata": {},
   "outputs": [],
   "source": [
    "data[\"FPs\"] = data.Molecule.apply(mol2fp)"
   ]
  },
  {
   "cell_type": "code",
   "execution_count": 7,
   "id": "ceaff17e",
   "metadata": {},
   "outputs": [
    {
     "name": "stdout",
     "output_type": "stream",
     "text": [
      "(2391, 4096)\n"
     ]
    }
   ],
   "source": [
    "'''PyTorch need to train on pytorch tensors,\n",
    "which are similar to Numpy arrays, \n",
    "but with some extra features such a the ability\n",
    "to be transferred to the GPU memory. \n",
    "But first we’ll devide the dataset into train,\n",
    "validation and test using scikit learn.'''\n",
    "\n",
    "# ????\n",
    "X = np.stack(data.FPs.values)\n",
    "print(X.shape)"
   ]
  },
  {
   "cell_type": "code",
   "execution_count": 8,
   "id": "a0d86b92",
   "metadata": {},
   "outputs": [],
   "source": [
    "from sklearn.preprocessing import StandardScaler\n",
    "from sklearn.model_selection import train_test_split"
   ]
  },
  {
   "cell_type": "code",
   "execution_count": 9,
   "id": "1c4c6ac4",
   "metadata": {},
   "outputs": [],
   "source": [
    "y = data.pXC50.values.reshape((-1,1))\n",
    "X_train, X_test, y_train, y_test = train_test_split(X, y,  test_size=0.10, random_state=42)\n",
    "X_train, X_validation, y_train, y_validation = train_test_split(X_train, y_train,  test_size=0.05, random_state=42)\n",
    "#Normalizing output using standard scaling\n",
    "scaler = StandardScaler()\n",
    "y_train = scaler.fit_transform(y_train)\n",
    "y_test = scaler.transform(y_test)\n",
    "y_validation = scaler.transform(y_validation)"
   ]
  },
  {
   "cell_type": "code",
   "execution_count": 10,
   "id": "00169eef",
   "metadata": {},
   "outputs": [
    {
     "data": {
      "text/plain": [
       "(2043, 213)"
      ]
     },
     "execution_count": 10,
     "metadata": {},
     "output_type": "execute_result"
    }
   ],
   "source": [
    "# We'll remove low variance features\n",
    "from sklearn.feature_selection import VarianceThreshold\n",
    "feature_select = VarianceThreshold(threshold=0.05)\n",
    "X_train = feature_select.fit_transform(X_train)\n",
    "X_validation = feature_select.transform(X_validation)\n",
    "X_test = feature_select.transform(X_test)\n",
    "X_train.shape"
   ]
  },
  {
   "cell_type": "code",
   "execution_count": 11,
   "id": "dd988fa5",
   "metadata": {},
   "outputs": [
    {
     "name": "stdout",
     "output_type": "stream",
     "text": [
      "cpu\n"
     ]
    },
    {
     "data": {
      "text/plain": [
       "tensor([[0., 0., 1.,  ..., 0., 0., 0.],\n",
       "        [0., 1., 0.,  ..., 0., 0., 0.],\n",
       "        [0., 0., 0.,  ..., 0., 0., 0.],\n",
       "        ...,\n",
       "        [0., 1., 0.,  ..., 0., 0., 0.],\n",
       "        [0., 1., 0.,  ..., 1., 0., 0.],\n",
       "        [0., 1., 0.,  ..., 0., 0., 0.]])"
      ]
     },
     "execution_count": 11,
     "metadata": {},
     "output_type": "execute_result"
    }
   ],
   "source": [
    "# Let's get those arrays transfered to the GPU memory as tensors\n",
    "cuda = '\"cuda:0\" if torch.cuda.is_available() else'\n",
    "device = torch.device(\"cpu\")\n",
    "print(device)\n",
    "\n",
    "X_train = torch.tensor(X_train, device=device).float()\n",
    "X_test = torch.tensor(X_test, device=device).float()\n",
    "X_validation = torch.tensor(X_validation, device=device).float()\n",
    "y_train = torch.tensor(y_train, device=device).float()\n",
    "y_test = torch.tensor(y_test, device=device).float()\n",
    "y_validation = torch.tensor(y_validation, device=device).float()\n",
    "X_train"
   ]
  },
  {
   "cell_type": "code",
   "execution_count": 12,
   "id": "8b04f3c9",
   "metadata": {},
   "outputs": [
    {
     "data": {
      "text/plain": [
       "torch.Size([2043, 213])"
      ]
     },
     "execution_count": 12,
     "metadata": {},
     "output_type": "execute_result"
    }
   ],
   "source": [
    "X_train.shape"
   ]
  },
  {
   "cell_type": "code",
   "execution_count": 13,
   "id": "38460a56",
   "metadata": {},
   "outputs": [],
   "source": [
    "from torch.utils.data import TensorDataset\n",
    "train_dataset = TensorDataset(X_train, y_train)\n",
    "validation_dataset = TensorDataset(X_validation, y_validation)"
   ]
  },
  {
   "cell_type": "code",
   "execution_count": 14,
   "id": "58417490",
   "metadata": {},
   "outputs": [],
   "source": [
    "train_loader = torch.utils.data.DataLoader(dataset=train_dataset,\n",
    "                                          batch_size=256,\n",
    "                                          shuffle=True)\n",
    "validation_loader = torch.utils.data.DataLoader(dataset=validation_dataset,\n",
    "                                          batch_size=256,\n",
    "                                          shuffle=False)"
   ]
  },
  {
   "cell_type": "code",
   "execution_count": 15,
   "id": "247d6b7c",
   "metadata": {},
   "outputs": [],
   "source": [
    "# NN model, really have no idea how it works\n",
    "\n",
    "class Net(nn.Module):\n",
    "    def __init__(self, input_size, hidden_size, dropout_rate, out_size):\n",
    "        super(Net, self).__init__()\n",
    "        # Three layers and a output layer\n",
    "        self.fc1 = nn.Linear(input_size, hidden_size)  # 1st Full-Connected Layer\n",
    "        self.fc2 = nn.Linear(hidden_size, hidden_size)\n",
    "        self.fc3 = nn.Linear(hidden_size, hidden_size)\n",
    "        self.fc_out = nn.Linear(hidden_size, out_size) # Output layer\n",
    "        #Layer normalization for faster training\n",
    "        self.ln1 = nn.LayerNorm(hidden_size)\n",
    "        self.ln2 = nn.LayerNorm(hidden_size)\n",
    "        self.ln3 = nn.LayerNorm(hidden_size)        \n",
    "        #LeakyReLU will be used as the activation function\n",
    "        self.activation = nn.LeakyReLU()\n",
    "        #Dropout for regularization\n",
    "        self.dropout = nn.Dropout(dropout_rate)\n",
    "     \n",
    "    def forward(self, x):# Forward pass: stacking each layer together\n",
    "        # Fully connected =&amp;gt; Layer Norm =&amp;gt; LeakyReLU =&amp;gt; Dropout times 3\n",
    "        out = self.fc1(x)\n",
    "        out = self.ln1(out)\n",
    "        out = self.activation(out)\n",
    "        out = self.dropout(out)\n",
    "        out = self.fc2(out)\n",
    "        out = self.ln2(out)\n",
    "        out = self.activation(out)\n",
    "        out = self.dropout(out)\n",
    "        out = self.fc3(out)\n",
    "        out = self.ln3(out)\n",
    "        out = self.activation(out)\n",
    "        out = self.dropout(out)\n",
    "        #Final output layer\n",
    "        out = self.fc_out(out)\n",
    "        return out"
   ]
  },
  {
   "cell_type": "code",
   "execution_count": 16,
   "id": "19db65a7",
   "metadata": {},
   "outputs": [],
   "source": [
    "#Defining the hyperparameters\n",
    "input_size = X_train.size()[-1]     # The input size should fit our fingerprint size\n",
    "hidden_size = 1024   # The size of the hidden layer\n",
    "dropout_rate = 0.80    # The dropout rate\n",
    "output_size = 1        # This is just a single task, so this will be one\n",
    "learning_rate = 0.001  # The learning rate for the optimizer\n",
    "model = Net(input_size, hidden_size, dropout_rate, output_size)"
   ]
  },
  {
   "cell_type": "code",
   "execution_count": 17,
   "id": "c75b48cc",
   "metadata": {},
   "outputs": [],
   "source": [
    "#model.cuda()"
   ]
  },
  {
   "cell_type": "code",
   "execution_count": 18,
   "id": "64c4ee10",
   "metadata": {},
   "outputs": [],
   "source": [
    "criterion = nn.MSELoss()\n",
    "optimizer = torch.optim.Adam(model.parameters(), lr=learning_rate)"
   ]
  },
  {
   "cell_type": "code",
   "execution_count": 19,
   "id": "27319d1a",
   "metadata": {},
   "outputs": [
    {
     "name": "stderr",
     "output_type": "stream",
     "text": [
      "/home/anton/anaconda3/envs/my-rdkit-env/lib/python3.9/site-packages/torch/autograd/__init__.py:173: UserWarning: CUDA initialization: The NVIDIA driver on your system is too old (found version 10010). Please update your GPU driver by downloading and installing a new version from the URL: http://www.nvidia.com/Download/index.aspx Alternatively, go to: https://pytorch.org to install a PyTorch version that has been compiled with your version of the CUDA driver. (Triggered internally at  /opt/conda/conda-bld/pytorch_1646755849709/work/c10/cuda/CUDAFunctions.cpp:112.)\n",
      "  Variable._execution_engine.run_backward(  # Calls into the C++ engine to run the backward pass\n"
     ]
    },
    {
     "name": "stdout",
     "output_type": "stream",
     "text": [
      "Epoch:   0 Training loss: 1.65 Validation loss: 1.61\n",
      "Epoch:  10 Training loss: 0.61 Validation loss: 0.72\n",
      "Epoch:  20 Training loss: 0.48 Validation loss: 0.63\n",
      "Epoch:  30 Training loss: 0.41 Validation loss: 0.65\n",
      "Epoch:  40 Training loss: 0.35 Validation loss: 0.49\n",
      "Epoch:  50 Training loss: 0.33 Validation loss: 0.48\n",
      "Epoch:  60 Training loss: 0.30 Validation loss: 0.54\n",
      "Epoch:  70 Training loss: 0.29 Validation loss: 0.52\n",
      "Epoch:  80 Training loss: 0.26 Validation loss: 0.51\n",
      "Epoch:  90 Training loss: 0.25 Validation loss: 0.49\n",
      "Epoch: 100 Training loss: 0.24 Validation loss: 0.52\n",
      "Epoch: 110 Training loss: 0.24 Validation loss: 0.51\n",
      "Epoch: 120 Training loss: 0.22 Validation loss: 0.51\n",
      "Epoch: 130 Training loss: 0.20 Validation loss: 0.45\n",
      "Epoch: 140 Training loss: 0.19 Validation loss: 0.47\n",
      "Epoch: 150 Training loss: 0.20 Validation loss: 0.54\n",
      "Epoch: 160 Training loss: 0.19 Validation loss: 0.57\n",
      "Epoch: 170 Training loss: 0.18 Validation loss: 0.53\n",
      "Epoch: 180 Training loss: 0.17 Validation loss: 0.42\n",
      "Epoch: 190 Training loss: 0.18 Validation loss: 0.50\n"
     ]
    }
   ],
   "source": [
    "model.train() #Ensure the network is in \"train\" mode with dropouts active\n",
    "epochs = 200\n",
    "for e in range(epochs):\n",
    "    running_loss = 0\n",
    "    for fps, labels in train_loader:\n",
    "        # Training pass\n",
    "        optimizer.zero_grad() # Initialize the gradients, which will be recorded during the forward pa\n",
    "         \n",
    "        output = model(fps) #Forward pass of the mini-batch\n",
    "        loss = criterion(output, labels) #Computing the loss\n",
    "        loss.backward() # calculate the backward pass\n",
    "        optimizer.step() # Optimize the weights\n",
    "         \n",
    "        running_loss += loss.item()\n",
    "    else:\n",
    "        if e%10 == 0:\n",
    "            validation_loss = torch.mean(( y_validation - model(X_validation) )**2).item()\n",
    "            print(\"Epoch: %3i Training loss: %0.2F Validation loss: %0.2F\"%(e,(running_loss/len(train_loader)), validation_loss))\n"
   ]
  },
  {
   "cell_type": "code",
   "execution_count": 20,
   "id": "507efd3b",
   "metadata": {},
   "outputs": [],
   "source": [
    "model.eval() #Swith to evaluation mode, where dropout is switched off\n",
    "y_pred_train = model(X_train)\n",
    "y_pred_validation = model(X_validation)\n",
    "y_pred_test = model(X_test)"
   ]
  },
  {
   "cell_type": "code",
   "execution_count": 21,
   "id": "f05d7d07",
   "metadata": {},
   "outputs": [
    {
     "data": {
      "text/plain": [
       "0.08350811898708344"
      ]
     },
     "execution_count": 21,
     "metadata": {},
     "output_type": "execute_result"
    }
   ],
   "source": [
    "torch.mean(( y_train - y_pred_train )**2).item()"
   ]
  },
  {
   "cell_type": "code",
   "execution_count": 22,
   "id": "51f60a02",
   "metadata": {},
   "outputs": [
    {
     "data": {
      "text/plain": [
       "0.39650586247444153"
      ]
     },
     "execution_count": 22,
     "metadata": {},
     "output_type": "execute_result"
    }
   ],
   "source": [
    "\n",
    "torch.mean(( y_validation - y_pred_validation )**2).item()\n"
   ]
  },
  {
   "cell_type": "code",
   "execution_count": 23,
   "id": "8ec460f7",
   "metadata": {},
   "outputs": [
    {
     "data": {
      "text/plain": [
       "0.2778458893299103"
      ]
     },
     "execution_count": 23,
     "metadata": {},
     "output_type": "execute_result"
    }
   ],
   "source": [
    "torch.mean(( y_test - y_pred_test )**2).item()"
   ]
  },
  {
   "cell_type": "code",
   "execution_count": 24,
   "id": "96fcabad",
   "metadata": {},
   "outputs": [
    {
     "data": {
      "image/png": "[encoded data removed]",
      "text/plain": [
       "<Figure size 432x288 with 1 Axes>"
      ]
     },
     "metadata": {
      "needs_background": "light"
     },
     "output_type": "display_data"
    }
   ],
   "source": [
    "def flatten(tensor):\n",
    "    return tensor.cpu().detach().numpy().flatten()\n",
    "\n",
    "_ = plt.scatter(flatten(y_pred_test), flatten(y_test), alpha=0.5, label=\"Test\")\n",
    "_ = plt.scatter(flatten(y_pred_train), flatten(y_train), alpha=0.1, label=\"Train\")\n",
    "_ = plt.legend()\n",
    "_ = plt.plot([-1.5, 1.5], [-1.5,1.5], c=\"b\")"
   ]
  },
  {
   "cell_type": "code",
   "execution_count": 25,
   "id": "ddb73364",
   "metadata": {},
   "outputs": [
    {
     "data": {
      "text/plain": [
       "6.1375313"
      ]
     },
     "execution_count": 25,
     "metadata": {},
     "output_type": "execute_result"
    }
   ],
   "source": [
    "def predict_smiles(smiles):\n",
    "    fp =mol2fp(Chem.MolFromSmiles(smiles)).reshape(1,-1)\n",
    "    fp_filtered = feature_select.transform(fp)\n",
    "    fp_tensor = torch.tensor(fp_filtered, device=device).float()\n",
    "    prediction = model(fp_tensor)\n",
    "    #return prediction.cpu().detach().numpy()\n",
    "    pXC50 = scaler.inverse_transform(prediction.cpu().detach().numpy())\n",
    "    return pXC50[0][0]\n",
    "predict_smiles('CN1CC2c3ccccc3Oc3ccc(Cl)cc3C2C1')"
   ]
  },
  {
   "cell_type": "code",
   "execution_count": 27,
   "id": "dc951dc8",
   "metadata": {},
   "outputs": [],
   "source": [
    "base = 'pubchem.chembl.dataset4publication_inchi_smiles_v2.tsv'\n",
    "output = {'smiles': [],\n",
    "          'pXC50': [],\n",
    "          'ID': []\n",
    "         }"
   ]
  },
  {
   "cell_type": "code",
   "execution_count": 28,
   "id": "d040495f",
   "metadata": {},
   "outputs": [],
   "source": [
    "base_tsv = pd.read_csv(base, sep='\\t', usecols=['DB', 'Original_Entry_ID', 'SMILES'])"
   ]
  },
  {
   "cell_type": "code",
   "execution_count": 29,
   "id": "6ca22d2b",
   "metadata": {},
   "outputs": [
    {
     "data": {
      "text/plain": [
       "56853341"
      ]
     },
     "execution_count": 29,
     "metadata": {},
     "output_type": "execute_result"
    }
   ],
   "source": [
    "len(base_tsv.SMILES.values)"
   ]
  },
  {
   "cell_type": "code",
   "execution_count": null,
   "id": "5e69d1ed",
   "metadata": {},
   "outputs": [],
   "source": []
  },
  {
   "cell_type": "code",
   "execution_count": 30,
   "id": "9edbffdf",
   "metadata": {},
   "outputs": [
    {
     "data": {
      "text/plain": [
       "1062737"
      ]
     },
     "execution_count": 30,
     "metadata": {},
     "output_type": "execute_result"
    }
   ],
   "source": [
    "len(set(base_tsv.SMILES.values))"
   ]
  },
  {
   "cell_type": "code",
   "execution_count": 31,
   "id": "31638ddf",
   "metadata": {},
   "outputs": [
    {
     "name": "stdout",
     "output_type": "stream",
     "text": [
      "Compound numer 1062000\n"
     ]
    }
   ],
   "source": [
    "from IPython.display import clear_output\n",
    "\n",
    "activity = []\n",
    "i = 0\n",
    "for smiles in set(base_tsv.SMILES.values):\n",
    "    i+= 1\n",
    "    if i % 1000 == 0:\n",
    "        clear_output(wait=True)\n",
    "        print(f\"Compound numer {i}\")\n",
    "    try:\n",
    "        activity.append(predict_smiles(smiles))\n",
    "    except:\n",
    "        activity.append(np.nan)"
   ]
  },
  {
   "cell_type": "code",
   "execution_count": 32,
   "id": "ef18f1f9",
   "metadata": {},
   "outputs": [],
   "source": [
    "out = {'smiles': list(set(base_tsv.SMILES.values)),\n",
    "          'pXC50': activity\n",
    "         }\n",
    "df = pd.DataFrame(out)\n",
    "df = df.sort_values('pXC50', ascending=True)"
   ]
  },
  {
   "cell_type": "code",
   "execution_count": 33,
   "id": "f3690917",
   "metadata": {},
   "outputs": [],
   "source": [
    "#df.to_csv('first_nn_htr6.csv')"
   ]
  },
  {
   "cell_type": "code",
   "execution_count": 34,
   "id": "588dba58",
   "metadata": {},
   "outputs": [
    {
     "data": {
      "text/plain": [
       "'S(CC(=O)N(C(C(=O)NC(C)(C)C)C1=CC=C(OC)C=C1)C2=CC=CC=C2)C=3N(C(=NN3)C=4C=CC=CC4)C'"
      ]
     },
     "execution_count": 34,
     "metadata": {},
     "output_type": "execute_result"
    }
   ],
   "source": [
    "df.smiles[884107]"
   ]
  },
  {
   "cell_type": "code",
   "execution_count": null,
   "id": "7e7fe4ff",
   "metadata": {
    "scrolled": true
   },
   "outputs": [],
   "source": []
  },
  {
   "cell_type": "code",
   "execution_count": 35,
   "id": "2b0cd20c",
   "metadata": {},
   "outputs": [],
   "source": [
    "#save part to swissADME analysis\n",
    "swissADME = df.head(1000)"
   ]
  },
  {
   "cell_type": "code",
   "execution_count": 36,
   "id": "9e613f77",
   "metadata": {},
   "outputs": [],
   "source": [
    "#merge with original table\n",
    "swissADME = pd.merge(swissADME,base_tsv,how='left',left_on='smiles',right_on='SMILES')\n"
   ]
  },
  {
   "cell_type": "code",
   "execution_count": 37,
   "id": "2dfc13be",
   "metadata": {},
   "outputs": [
    {
     "data": {
      "text/html": [
       "<div>\n",
       "<style scoped>\n",
       "    .dataframe tbody tr th:only-of-type {\n",
       "        vertical-align: middle;\n",
       "    }\n",
       "\n",
       "    .dataframe tbody tr th {\n",
       "        vertical-align: top;\n",
       "    }\n",
       "\n",
       "    .dataframe thead th {\n",
       "        text-align: right;\n",
       "    }\n",
       "</style>\n",
       "<table border=\"1\" class=\"dataframe\">\n",
       "  <thead>\n",
       "    <tr style=\"text-align: right;\">\n",
       "      <th></th>\n",
       "      <th>smiles</th>\n",
       "      <th>pXC50</th>\n",
       "      <th>Original_Entry_ID</th>\n",
       "      <th>DB</th>\n",
       "      <th>SMILES</th>\n",
       "    </tr>\n",
       "  </thead>\n",
       "  <tbody>\n",
       "    <tr>\n",
       "      <th>0</th>\n",
       "      <td>OC=1N(CN2C(CCC2)CC)C=NC=3C1N=C4C3C=CC=C4</td>\n",
       "      <td>4.941354</td>\n",
       "      <td>3238198</td>\n",
       "      <td>pubchem_screening</td>\n",
       "      <td>OC=1N(CN2C(CCC2)CC)C=NC=3C1N=C4C3C=CC=C4</td>\n",
       "    </tr>\n",
       "    <tr>\n",
       "      <th>3</th>\n",
       "      <td>OC=1N(CN2C(CCC2)CC)C=NC=3C1N=C4C3C=CC=C4</td>\n",
       "      <td>4.941354</td>\n",
       "      <td>3238198</td>\n",
       "      <td>pubchem</td>\n",
       "      <td>OC=1N(CN2C(CCC2)CC)C=NC=3C1N=C4C3C=CC=C4</td>\n",
       "    </tr>\n",
       "    <tr>\n",
       "      <th>241</th>\n",
       "      <td>OC=1N(C=NC=2C1N=C3C2C=CC=C3)CN4C(CCC4)CC</td>\n",
       "      <td>4.941354</td>\n",
       "      <td>CHEMBL1392212</td>\n",
       "      <td>chembl20</td>\n",
       "      <td>OC=1N(C=NC=2C1N=C3C2C=CC=C3)CN4C(CCC4)CC</td>\n",
       "    </tr>\n",
       "    <tr>\n",
       "      <th>248</th>\n",
       "      <td>S=1(O)(O)=CC2N(/C(/SC2C1)=N/C(=O)C3CCCCC3)C4=C...</td>\n",
       "      <td>4.999475</td>\n",
       "      <td>4908209</td>\n",
       "      <td>pubchem_screening</td>\n",
       "      <td>S=1(O)(O)=CC2N(/C(/SC2C1)=N/C(=O)C3CCCCC3)C4=C...</td>\n",
       "    </tr>\n",
       "    <tr>\n",
       "      <th>251</th>\n",
       "      <td>S=1(O)(O)=CC2N(/C(/SC2C1)=N/C(=O)C3CCCCC3)C4=C...</td>\n",
       "      <td>4.999475</td>\n",
       "      <td>4908209</td>\n",
       "      <td>pubchem</td>\n",
       "      <td>S=1(O)(O)=CC2N(/C(/SC2C1)=N/C(=O)C3CCCCC3)C4=C...</td>\n",
       "    </tr>\n",
       "    <tr>\n",
       "      <th>...</th>\n",
       "      <td>...</td>\n",
       "      <td>...</td>\n",
       "      <td>...</td>\n",
       "      <td>...</td>\n",
       "      <td>...</td>\n",
       "    </tr>\n",
       "    <tr>\n",
       "      <th>65263</th>\n",
       "      <td>C=1C(=NC(=C(C1)O)/C=N/O)CCCN2C(C3=CC(=C(C=C3CC...</td>\n",
       "      <td>5.164073</td>\n",
       "      <td>CHEMBL2181430</td>\n",
       "      <td>chembl20</td>\n",
       "      <td>C=1C(=NC(=C(C1)O)/C=N/O)CCCN2C(C3=CC(=C(C=C3CC...</td>\n",
       "    </tr>\n",
       "    <tr>\n",
       "      <th>65264</th>\n",
       "      <td>O(C=1C=C2C(N(CCC2=CC1OC)CCCC3=NC(=C(O)C=C3)C=N...</td>\n",
       "      <td>5.164073</td>\n",
       "      <td>71453921</td>\n",
       "      <td>pubchem</td>\n",
       "      <td>O(C=1C=C2C(N(CCC2=CC1OC)CCCC3=NC(=C(O)C=C3)C=N...</td>\n",
       "    </tr>\n",
       "    <tr>\n",
       "      <th>65265</th>\n",
       "      <td>O1C(NC2CCN(CC2)CC3=CC(OCC)=C(OC)C=C3)=NC=4C1=C...</td>\n",
       "      <td>5.164099</td>\n",
       "      <td>46882666</td>\n",
       "      <td>pubchem</td>\n",
       "      <td>O1C(NC2CCN(CC2)CC3=CC(OCC)=C(OC)C=C3)=NC=4C1=C...</td>\n",
       "    </tr>\n",
       "    <tr>\n",
       "      <th>65266</th>\n",
       "      <td>O=C(N=C(N)N)CC=1C=CC(NC=2N=C(N=C3N(CC)C=NC32)C...</td>\n",
       "      <td>5.164137</td>\n",
       "      <td>44460095</td>\n",
       "      <td>pubchem_screening</td>\n",
       "      <td>O=C(N=C(N)N)CC=1C=CC(NC=2N=C(N=C3N(CC)C=NC32)C...</td>\n",
       "    </tr>\n",
       "    <tr>\n",
       "      <th>65267</th>\n",
       "      <td>O=C(N=C(N)N)CC=1C=CC(NC=2N=C(N=C3N(CC)C=NC32)C...</td>\n",
       "      <td>5.164137</td>\n",
       "      <td>44460095</td>\n",
       "      <td>pubchem</td>\n",
       "      <td>O=C(N=C(N)N)CC=1C=CC(NC=2N=C(N=C3N(CC)C=NC32)C...</td>\n",
       "    </tr>\n",
       "  </tbody>\n",
       "</table>\n",
       "<p>1425 rows × 5 columns</p>\n",
       "</div>"
      ],
      "text/plain": [
       "                                                  smiles     pXC50  \\\n",
       "0               OC=1N(CN2C(CCC2)CC)C=NC=3C1N=C4C3C=CC=C4  4.941354   \n",
       "3               OC=1N(CN2C(CCC2)CC)C=NC=3C1N=C4C3C=CC=C4  4.941354   \n",
       "241             OC=1N(C=NC=2C1N=C3C2C=CC=C3)CN4C(CCC4)CC  4.941354   \n",
       "248    S=1(O)(O)=CC2N(/C(/SC2C1)=N/C(=O)C3CCCCC3)C4=C...  4.999475   \n",
       "251    S=1(O)(O)=CC2N(/C(/SC2C1)=N/C(=O)C3CCCCC3)C4=C...  4.999475   \n",
       "...                                                  ...       ...   \n",
       "65263  C=1C(=NC(=C(C1)O)/C=N/O)CCCN2C(C3=CC(=C(C=C3CC...  5.164073   \n",
       "65264  O(C=1C=C2C(N(CCC2=CC1OC)CCCC3=NC(=C(O)C=C3)C=N...  5.164073   \n",
       "65265  O1C(NC2CCN(CC2)CC3=CC(OCC)=C(OC)C=C3)=NC=4C1=C...  5.164099   \n",
       "65266  O=C(N=C(N)N)CC=1C=CC(NC=2N=C(N=C3N(CC)C=NC32)C...  5.164137   \n",
       "65267  O=C(N=C(N)N)CC=1C=CC(NC=2N=C(N=C3N(CC)C=NC32)C...  5.164137   \n",
       "\n",
       "      Original_Entry_ID                 DB  \\\n",
       "0               3238198  pubchem_screening   \n",
       "3               3238198            pubchem   \n",
       "241       CHEMBL1392212           chembl20   \n",
       "248             4908209  pubchem_screening   \n",
       "251             4908209            pubchem   \n",
       "...                 ...                ...   \n",
       "65263     CHEMBL2181430           chembl20   \n",
       "65264          71453921            pubchem   \n",
       "65265          46882666            pubchem   \n",
       "65266          44460095  pubchem_screening   \n",
       "65267          44460095            pubchem   \n",
       "\n",
       "                                                  SMILES  \n",
       "0               OC=1N(CN2C(CCC2)CC)C=NC=3C1N=C4C3C=CC=C4  \n",
       "3               OC=1N(CN2C(CCC2)CC)C=NC=3C1N=C4C3C=CC=C4  \n",
       "241             OC=1N(C=NC=2C1N=C3C2C=CC=C3)CN4C(CCC4)CC  \n",
       "248    S=1(O)(O)=CC2N(/C(/SC2C1)=N/C(=O)C3CCCCC3)C4=C...  \n",
       "251    S=1(O)(O)=CC2N(/C(/SC2C1)=N/C(=O)C3CCCCC3)C4=C...  \n",
       "...                                                  ...  \n",
       "65263  C=1C(=NC(=C(C1)O)/C=N/O)CCCN2C(C3=CC(=C(C=C3CC...  \n",
       "65264  O(C=1C=C2C(N(CCC2=CC1OC)CCCC3=NC(=C(O)C=C3)C=N...  \n",
       "65265  O1C(NC2CCN(CC2)CC3=CC(OCC)=C(OC)C=C3)=NC=4C1=C...  \n",
       "65266  O=C(N=C(N)N)CC=1C=CC(NC=2N=C(N=C3N(CC)C=NC32)C...  \n",
       "65267  O=C(N=C(N)N)CC=1C=CC(NC=2N=C(N=C3N(CC)C=NC32)C...  \n",
       "\n",
       "[1425 rows x 5 columns]"
      ]
     },
     "execution_count": 37,
     "metadata": {},
     "output_type": "execute_result"
    }
   ],
   "source": [
    "#swissADME.drop('smiles', axis='columns', inplace=True)\n",
    "swissADME.drop_duplicates(inplace=True)\n",
    "swissADME"
   ]
  },
  {
   "cell_type": "code",
   "execution_count": 38,
   "id": "aa3e3394",
   "metadata": {},
   "outputs": [],
   "source": [
    "#swissADME.to_csv('swissADME.csv')"
   ]
  },
  {
   "cell_type": "code",
   "execution_count": 39,
   "id": "16eb133a",
   "metadata": {},
   "outputs": [],
   "source": [
    "from rdkit import Chem\n",
    "from rdkit.Chem import Descriptors\n",
    "\n",
    "PandasTools.AddMoleculeColumnToFrame(swissADME,'SMILES','Molecule')\n",
    "swissADME['MW'] = swissADME.Molecule.apply(Chem.Descriptors.MolWt)"
   ]
  },
  {
   "cell_type": "code",
   "execution_count": 40,
   "id": "bd951c16",
   "metadata": {},
   "outputs": [
    {
     "data": {
      "text/html": [
       "<div>\n",
       "<style scoped>\n",
       "    .dataframe tbody tr th:only-of-type {\n",
       "        vertical-align: middle;\n",
       "    }\n",
       "\n",
       "    .dataframe tbody tr th {\n",
       "        vertical-align: top;\n",
       "    }\n",
       "\n",
       "    .dataframe thead th {\n",
       "        text-align: right;\n",
       "    }\n",
       "</style>\n",
       "<table border=\"1\" class=\"dataframe\">\n",
       "  <thead>\n",
       "    <tr style=\"text-align: right;\">\n",
       "      <th></th>\n",
       "      <th>smiles</th>\n",
       "      <th>pXC50</th>\n",
       "      <th>Original_Entry_ID</th>\n",
       "      <th>DB</th>\n",
       "      <th>SMILES</th>\n",
       "      <th>Molecule</th>\n",
       "      <th>MW</th>\n",
       "    </tr>\n",
       "  </thead>\n",
       "  <tbody>\n",
       "    <tr>\n",
       "      <th>0</th>\n",
       "      <td>OC=1N(CN2C(CCC2)CC)C=NC=3C1N=C4C3C=CC=C4</td>\n",
       "      <td>4.941354</td>\n",
       "      <td>3238198</td>\n",
       "      <td>pubchem_screening</td>\n",
       "      <td>OC=1N(CN2C(CCC2)CC)C=NC=3C1N=C4C3C=CC=C4</td>\n",
       "      <td>&lt;img data-content=\"rdkit/molecule\" src=\"data:image/png;base64,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\" alt=\"Mol\"/&gt;</td>\n",
       "      <td>296.374</td>\n",
       "    </tr>\n",
       "    <tr>\n",
       "      <th>3</th>\n",
       "      <td>OC=1N(CN2C(CCC2)CC)C=NC=3C1N=C4C3C=CC=C4</td>\n",
       "      <td>4.941354</td>\n",
       "      <td>3238198</td>\n",
       "      <td>pubchem</td>\n",
       "      <td>OC=1N(CN2C(CCC2)CC)C=NC=3C1N=C4C3C=CC=C4</td>\n",
       "      <td>&lt;img data-content=\"rdkit/molecule\" src=\"data:image/png;base64,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\" alt=\"Mol\"/&gt;</td>\n",
       "      <td>296.374</td>\n",
       "    </tr>\n",
       "    <tr>\n",
       "      <th>241</th>\n",
       "      <td>OC=1N(C=NC=2C1N=C3C2C=CC=C3)CN4C(CCC4)CC</td>\n",
       "      <td>4.941354</td>\n",
       "      <td>CHEMBL1392212</td>\n",
       "      <td>chembl20</td>\n",
       "      <td>OC=1N(C=NC=2C1N=C3C2C=CC=C3)CN4C(CCC4)CC</td>\n",
       "      <td>&lt;img data-content=\"rdkit/molecule\" src=\"data:image/png;base64,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\" alt=\"Mol\"/&gt;</td>\n",
       "      <td>296.374</td>\n",
       "    </tr>\n",
       "    <tr>\n",
       "      <th>248</th>\n",
       "      <td>S=1(O)(O)=CC2N(/C(/SC2C1)=N/C(=O)C3CCCCC3)C4=C...</td>\n",
       "      <td>4.999475</td>\n",
       "      <td>4908209</td>\n",
       "      <td>pubchem_screening</td>\n",
       "      <td>S=1(O)(O)=CC2N(/C(/SC2C1)=N/C(=O)C3CCCCC3)C4=C...</td>\n",
       "      <td>&lt;img data-content=\"rdkit/molecule\" src=\"data:image/png;base64,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\" alt=\"Mol\"/&gt;</td>\n",
       "      <td>378.519</td>\n",
       "    </tr>\n",
       "    <tr>\n",
       "      <th>251</th>\n",
       "      <td>S=1(O)(O)=CC2N(/C(/SC2C1)=N/C(=O)C3CCCCC3)C4=C...</td>\n",
       "      <td>4.999475</td>\n",
       "      <td>4908209</td>\n",
       "      <td>pubchem</td>\n",
       "      <td>S=1(O)(O)=CC2N(/C(/SC2C1)=N/C(=O)C3CCCCC3)C4=C...</td>\n",
       "      <td>&lt;img data-content=\"rdkit/molecule\" src=\"data:image/png;base64,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\" alt=\"Mol\"/&gt;</td>\n",
       "      <td>378.519</td>\n",
       "    </tr>\n",
       "  </tbody>\n",
       "</table>\n",
       "</div>"
      ],
      "text/plain": [
       "                                                smiles     pXC50  \\\n",
       "0             OC=1N(CN2C(CCC2)CC)C=NC=3C1N=C4C3C=CC=C4  4.941354   \n",
       "3             OC=1N(CN2C(CCC2)CC)C=NC=3C1N=C4C3C=CC=C4  4.941354   \n",
       "241           OC=1N(C=NC=2C1N=C3C2C=CC=C3)CN4C(CCC4)CC  4.941354   \n",
       "248  S=1(O)(O)=CC2N(/C(/SC2C1)=N/C(=O)C3CCCCC3)C4=C...  4.999475   \n",
       "251  S=1(O)(O)=CC2N(/C(/SC2C1)=N/C(=O)C3CCCCC3)C4=C...  4.999475   \n",
       "\n",
       "    Original_Entry_ID                 DB  \\\n",
       "0             3238198  pubchem_screening   \n",
       "3             3238198            pubchem   \n",
       "241     CHEMBL1392212           chembl20   \n",
       "248           4908209  pubchem_screening   \n",
       "251           4908209            pubchem   \n",
       "\n",
       "                                                SMILES  \\\n",
       "0             OC=1N(CN2C(CCC2)CC)C=NC=3C1N=C4C3C=CC=C4   \n",
       "3             OC=1N(CN2C(CCC2)CC)C=NC=3C1N=C4C3C=CC=C4   \n",
       "241           OC=1N(C=NC=2C1N=C3C2C=CC=C3)CN4C(CCC4)CC   \n",
       "248  S=1(O)(O)=CC2N(/C(/SC2C1)=N/C(=O)C3CCCCC3)C4=C...   \n",
       "251  S=1(O)(O)=CC2N(/C(/SC2C1)=N/C(=O)C3CCCCC3)C4=C...   \n",
       "\n",
       "                                              Molecule       MW  \n",
       "0    <img data-content=\"rdkit/molecule\" src=\"data:i...  296.374  \n",
       "3    <img data-content=\"rdkit/molecule\" src=\"data:i...  296.374  \n",
       "241  <img data-content=\"rdkit/molecule\" src=\"data:i...  296.374  \n",
       "248  <img data-content=\"rdkit/molecule\" src=\"data:i...  378.519  \n",
       "251  <img data-content=\"rdkit/molecule\" src=\"data:i...  378.519  "
      ]
     },
     "execution_count": 40,
     "metadata": {},
     "output_type": "execute_result"
    }
   ],
   "source": [
    "swissADME.head()"
   ]
  },
  {
   "cell_type": "code",
   "execution_count": 41,
   "id": "3d16ceaf",
   "metadata": {},
   "outputs": [],
   "source": [
    "from rdkit.Chem import Lipinski"
   ]
  },
  {
   "cell_type": "code",
   "execution_count": 42,
   "id": "4606b428",
   "metadata": {},
   "outputs": [],
   "source": [
    "swissADME['HA'] = swissADME.Molecule.apply(Chem.Lipinski.NumHAcceptors)\n",
    "swissADME['HD'] = swissADME.Molecule.apply(Chem.Lipinski.NumHDonors)"
   ]
  },
  {
   "cell_type": "code",
   "execution_count": 43,
   "id": "7da9148c",
   "metadata": {},
   "outputs": [
    {
     "data": {
      "text/html": [
       "<div>\n",
       "<style scoped>\n",
       "    .dataframe tbody tr th:only-of-type {\n",
       "        vertical-align: middle;\n",
       "    }\n",
       "\n",
       "    .dataframe tbody tr th {\n",
       "        vertical-align: top;\n",
       "    }\n",
       "\n",
       "    .dataframe thead th {\n",
       "        text-align: right;\n",
       "    }\n",
       "</style>\n",
       "<table border=\"1\" class=\"dataframe\">\n",
       "  <thead>\n",
       "    <tr style=\"text-align: right;\">\n",
       "      <th></th>\n",
       "      <th>smiles</th>\n",
       "      <th>pXC50</th>\n",
       "      <th>Original_Entry_ID</th>\n",
       "      <th>DB</th>\n",
       "      <th>SMILES</th>\n",
       "      <th>Molecule</th>\n",
       "      <th>MW</th>\n",
       "      <th>HA</th>\n",
       "      <th>HD</th>\n",
       "      <th>logP</th>\n",
       "    </tr>\n",
       "  </thead>\n",
       "  <tbody>\n",
       "    <tr>\n",
       "      <th>0</th>\n",
       "      <td>OC=1N(CN2C(CCC2)CC)C=NC=3C1N=C4C3C=CC=C4</td>\n",
       "      <td>4.941354</td>\n",
       "      <td>3238198</td>\n",
       "      <td>pubchem_screening</td>\n",
       "      <td>OC=1N(CN2C(CCC2)CC)C=NC=3C1N=C4C3C=CC=C4</td>\n",
       "      <td>&lt;img data-content=\"rdkit/molecule\" src=\"data:image/png;base64,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\" alt=\"Mol\"/&gt;</td>\n",
       "      <td>296.374</td>\n",
       "      <td>5</td>\n",
       "      <td>1</td>\n",
       "      <td>3.0736</td>\n",
       "    </tr>\n",
       "    <tr>\n",
       "      <th>3</th>\n",
       "      <td>OC=1N(CN2C(CCC2)CC)C=NC=3C1N=C4C3C=CC=C4</td>\n",
       "      <td>4.941354</td>\n",
       "      <td>3238198</td>\n",
       "      <td>pubchem</td>\n",
       "      <td>OC=1N(CN2C(CCC2)CC)C=NC=3C1N=C4C3C=CC=C4</td>\n",
       "      <td>&lt;img data-content=\"rdkit/molecule\" src=\"data:image/png;base64,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\" alt=\"Mol\"/&gt;</td>\n",
       "      <td>296.374</td>\n",
       "      <td>5</td>\n",
       "      <td>1</td>\n",
       "      <td>3.0736</td>\n",
       "    </tr>\n",
       "    <tr>\n",
       "      <th>241</th>\n",
       "      <td>OC=1N(C=NC=2C1N=C3C2C=CC=C3)CN4C(CCC4)CC</td>\n",
       "      <td>4.941354</td>\n",
       "      <td>CHEMBL1392212</td>\n",
       "      <td>chembl20</td>\n",
       "      <td>OC=1N(C=NC=2C1N=C3C2C=CC=C3)CN4C(CCC4)CC</td>\n",
       "      <td>&lt;img data-content=\"rdkit/molecule\" src=\"data:image/png;base64,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\" alt=\"Mol\"/&gt;</td>\n",
       "      <td>296.374</td>\n",
       "      <td>5</td>\n",
       "      <td>1</td>\n",
       "      <td>3.0736</td>\n",
       "    </tr>\n",
       "    <tr>\n",
       "      <th>248</th>\n",
       "      <td>S=1(O)(O)=CC2N(/C(/SC2C1)=N/C(=O)C3CCCCC3)C4=C...</td>\n",
       "      <td>4.999475</td>\n",
       "      <td>4908209</td>\n",
       "      <td>pubchem_screening</td>\n",
       "      <td>S=1(O)(O)=CC2N(/C(/SC2C1)=N/C(=O)C3CCCCC3)C4=C...</td>\n",
       "      <td>&lt;img data-content=\"rdkit/molecule\" src=\"data:image/png;base64,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\" alt=\"Mol\"/&gt;</td>\n",
       "      <td>378.519</td>\n",
       "      <td>4</td>\n",
       "      <td>2</td>\n",
       "      <td>3.8085</td>\n",
       "    </tr>\n",
       "    <tr>\n",
       "      <th>251</th>\n",
       "      <td>S=1(O)(O)=CC2N(/C(/SC2C1)=N/C(=O)C3CCCCC3)C4=C...</td>\n",
       "      <td>4.999475</td>\n",
       "      <td>4908209</td>\n",
       "      <td>pubchem</td>\n",
       "      <td>S=1(O)(O)=CC2N(/C(/SC2C1)=N/C(=O)C3CCCCC3)C4=C...</td>\n",
       "      <td>&lt;img data-content=\"rdkit/molecule\" src=\"data:image/png;base64,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\" alt=\"Mol\"/&gt;</td>\n",
       "      <td>378.519</td>\n",
       "      <td>4</td>\n",
       "      <td>2</td>\n",
       "      <td>3.8085</td>\n",
       "    </tr>\n",
       "  </tbody>\n",
       "</table>\n",
       "</div>"
      ],
      "text/plain": [
       "                                                smiles     pXC50  \\\n",
       "0             OC=1N(CN2C(CCC2)CC)C=NC=3C1N=C4C3C=CC=C4  4.941354   \n",
       "3             OC=1N(CN2C(CCC2)CC)C=NC=3C1N=C4C3C=CC=C4  4.941354   \n",
       "241           OC=1N(C=NC=2C1N=C3C2C=CC=C3)CN4C(CCC4)CC  4.941354   \n",
       "248  S=1(O)(O)=CC2N(/C(/SC2C1)=N/C(=O)C3CCCCC3)C4=C...  4.999475   \n",
       "251  S=1(O)(O)=CC2N(/C(/SC2C1)=N/C(=O)C3CCCCC3)C4=C...  4.999475   \n",
       "\n",
       "    Original_Entry_ID                 DB  \\\n",
       "0             3238198  pubchem_screening   \n",
       "3             3238198            pubchem   \n",
       "241     CHEMBL1392212           chembl20   \n",
       "248           4908209  pubchem_screening   \n",
       "251           4908209            pubchem   \n",
       "\n",
       "                                                SMILES  \\\n",
       "0             OC=1N(CN2C(CCC2)CC)C=NC=3C1N=C4C3C=CC=C4   \n",
       "3             OC=1N(CN2C(CCC2)CC)C=NC=3C1N=C4C3C=CC=C4   \n",
       "241           OC=1N(C=NC=2C1N=C3C2C=CC=C3)CN4C(CCC4)CC   \n",
       "248  S=1(O)(O)=CC2N(/C(/SC2C1)=N/C(=O)C3CCCCC3)C4=C...   \n",
       "251  S=1(O)(O)=CC2N(/C(/SC2C1)=N/C(=O)C3CCCCC3)C4=C...   \n",
       "\n",
       "                                              Molecule       MW  HA  HD  \\\n",
       "0    <img data-content=\"rdkit/molecule\" src=\"data:i...  296.374   5   1   \n",
       "3    <img data-content=\"rdkit/molecule\" src=\"data:i...  296.374   5   1   \n",
       "241  <img data-content=\"rdkit/molecule\" src=\"data:i...  296.374   5   1   \n",
       "248  <img data-content=\"rdkit/molecule\" src=\"data:i...  378.519   4   2   \n",
       "251  <img data-content=\"rdkit/molecule\" src=\"data:i...  378.519   4   2   \n",
       "\n",
       "       logP  \n",
       "0    3.0736  \n",
       "3    3.0736  \n",
       "241  3.0736  \n",
       "248  3.8085  \n",
       "251  3.8085  "
      ]
     },
     "execution_count": 43,
     "metadata": {},
     "output_type": "execute_result"
    }
   ],
   "source": [
    "from rdkit.Chem import Crippen\n",
    "swissADME['logP'] = swissADME.Molecule.apply(Chem.Crippen.MolLogP)\n",
    "swissADME.head()"
   ]
  },
  {
   "cell_type": "code",
   "execution_count": 44,
   "id": "53f44bb9",
   "metadata": {},
   "outputs": [],
   "source": [
    "# implementation of Lipinski rule of five\n",
    "def rule_of_five(df):\n",
    "    f = (df.MW < 500) & (df.logP < 5) & (df.HA < 10) & (df.HD < 5)\n",
    "    df['Lipinski rule'] = f\n",
    "    return df"
   ]
  },
  {
   "cell_type": "code",
   "execution_count": 45,
   "id": "d6d3d67d",
   "metadata": {},
   "outputs": [
    {
     "data": {
      "text/html": [
       "<div>\n",
       "<style scoped>\n",
       "    .dataframe tbody tr th:only-of-type {\n",
       "        vertical-align: middle;\n",
       "    }\n",
       "\n",
       "    .dataframe tbody tr th {\n",
       "        vertical-align: top;\n",
       "    }\n",
       "\n",
       "    .dataframe thead th {\n",
       "        text-align: right;\n",
       "    }\n",
       "</style>\n",
       "<table border=\"1\" class=\"dataframe\">\n",
       "  <thead>\n",
       "    <tr style=\"text-align: right;\">\n",
       "      <th></th>\n",
       "      <th>smiles</th>\n",
       "      <th>pXC50</th>\n",
       "      <th>Original_Entry_ID</th>\n",
       "      <th>DB</th>\n",
       "      <th>SMILES</th>\n",
       "      <th>Molecule</th>\n",
       "      <th>MW</th>\n",
       "      <th>HA</th>\n",
       "      <th>HD</th>\n",
       "      <th>logP</th>\n",
       "      <th>Lipinski rule</th>\n",
       "    </tr>\n",
       "  </thead>\n",
       "  <tbody>\n",
       "    <tr>\n",
       "      <th>0</th>\n",
       "      <td>OC=1N(CN2C(CCC2)CC)C=NC=3C1N=C4C3C=CC=C4</td>\n",
       "      <td>4.941354</td>\n",
       "      <td>3238198</td>\n",
       "      <td>pubchem_screening</td>\n",
       "      <td>OC=1N(CN2C(CCC2)CC)C=NC=3C1N=C4C3C=CC=C4</td>\n",
       "      <td>&lt;img data-content=\"rdkit/molecule\" src=\"data:image/png;base64,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\" alt=\"Mol\"/&gt;</td>\n",
       "      <td>296.374</td>\n",
       "      <td>5</td>\n",
       "      <td>1</td>\n",
       "      <td>3.07360</td>\n",
       "      <td>True</td>\n",
       "    </tr>\n",
       "    <tr>\n",
       "      <th>3</th>\n",
       "      <td>OC=1N(CN2C(CCC2)CC)C=NC=3C1N=C4C3C=CC=C4</td>\n",
       "      <td>4.941354</td>\n",
       "      <td>3238198</td>\n",
       "      <td>pubchem</td>\n",
       "      <td>OC=1N(CN2C(CCC2)CC)C=NC=3C1N=C4C3C=CC=C4</td>\n",
       "      <td>&lt;img data-content=\"rdkit/molecule\" src=\"data:image/png;base64,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\" alt=\"Mol\"/&gt;</td>\n",
       "      <td>296.374</td>\n",
       "      <td>5</td>\n",
       "      <td>1</td>\n",
       "      <td>3.07360</td>\n",
       "      <td>True</td>\n",
       "    </tr>\n",
       "    <tr>\n",
       "      <th>241</th>\n",
       "      <td>OC=1N(C=NC=2C1N=C3C2C=CC=C3)CN4C(CCC4)CC</td>\n",
       "      <td>4.941354</td>\n",
       "      <td>CHEMBL1392212</td>\n",
       "      <td>chembl20</td>\n",
       "      <td>OC=1N(C=NC=2C1N=C3C2C=CC=C3)CN4C(CCC4)CC</td>\n",
       "      <td>&lt;img data-content=\"rdkit/molecule\" src=\"data:image/png;base64,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\" alt=\"Mol\"/&gt;</td>\n",
       "      <td>296.374</td>\n",
       "      <td>5</td>\n",
       "      <td>1</td>\n",
       "      <td>3.07360</td>\n",
       "      <td>True</td>\n",
       "    </tr>\n",
       "    <tr>\n",
       "      <th>248</th>\n",
       "      <td>S=1(O)(O)=CC2N(/C(/SC2C1)=N/C(=O)C3CCCCC3)C4=C...</td>\n",
       "      <td>4.999475</td>\n",
       "      <td>4908209</td>\n",
       "      <td>pubchem_screening</td>\n",
       "      <td>S=1(O)(O)=CC2N(/C(/SC2C1)=N/C(=O)C3CCCCC3)C4=C...</td>\n",
       "      <td>&lt;img data-content=\"rdkit/molecule\" src=\"data:image/png;base64,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\" alt=\"Mol\"/&gt;</td>\n",
       "      <td>378.519</td>\n",
       "      <td>4</td>\n",
       "      <td>2</td>\n",
       "      <td>3.80850</td>\n",
       "      <td>True</td>\n",
       "    </tr>\n",
       "    <tr>\n",
       "      <th>251</th>\n",
       "      <td>S=1(O)(O)=CC2N(/C(/SC2C1)=N/C(=O)C3CCCCC3)C4=C...</td>\n",
       "      <td>4.999475</td>\n",
       "      <td>4908209</td>\n",
       "      <td>pubchem</td>\n",
       "      <td>S=1(O)(O)=CC2N(/C(/SC2C1)=N/C(=O)C3CCCCC3)C4=C...</td>\n",
       "      <td>&lt;img data-content=\"rdkit/molecule\" src=\"data:image/png;base64,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\" alt=\"Mol\"/&gt;</td>\n",
       "      <td>378.519</td>\n",
       "      <td>4</td>\n",
       "      <td>2</td>\n",
       "      <td>3.80850</td>\n",
       "      <td>True</td>\n",
       "    </tr>\n",
       "    <tr>\n",
       "      <th>...</th>\n",
       "      <td>...</td>\n",
       "      <td>...</td>\n",
       "      <td>...</td>\n",
       "      <td>...</td>\n",
       "      <td>...</td>\n",
       "      <td>...</td>\n",
       "      <td>...</td>\n",
       "      <td>...</td>\n",
       "      <td>...</td>\n",
       "      <td>...</td>\n",
       "      <td>...</td>\n",
       "    </tr>\n",
       "    <tr>\n",
       "      <th>65263</th>\n",
       "      <td>C=1C(=NC(=C(C1)O)/C=N/O)CCCN2C(C3=CC(=C(C=C3CC...</td>\n",
       "      <td>5.164073</td>\n",
       "      <td>CHEMBL2181430</td>\n",
       "      <td>chembl20</td>\n",
       "      <td>C=1C(=NC(=C(C1)O)/C=N/O)CCCN2C(C3=CC(=C(C=C3CC...</td>\n",
       "      <td>&lt;img data-content=\"rdkit/molecule\" src=\"data:image/png;base64,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\" alt=\"Mol\"/&gt;</td>\n",
       "      <td>447.535</td>\n",
       "      <td>7</td>\n",
       "      <td>2</td>\n",
       "      <td>4.19280</td>\n",
       "      <td>True</td>\n",
       "    </tr>\n",
       "    <tr>\n",
       "      <th>65264</th>\n",
       "      <td>O(C=1C=C2C(N(CCC2=CC1OC)CCCC3=NC(=C(O)C=C3)C=N...</td>\n",
       "      <td>5.164073</td>\n",
       "      <td>71453921</td>\n",
       "      <td>pubchem</td>\n",
       "      <td>O(C=1C=C2C(N(CCC2=CC1OC)CCCC3=NC(=C(O)C=C3)C=N...</td>\n",
       "      <td>&lt;img data-content=\"rdkit/molecule\" src=\"data:image/png;base64,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\" alt=\"Mol\"/&gt;</td>\n",
       "      <td>447.535</td>\n",
       "      <td>7</td>\n",
       "      <td>2</td>\n",
       "      <td>4.19280</td>\n",
       "      <td>True</td>\n",
       "    </tr>\n",
       "    <tr>\n",
       "      <th>65265</th>\n",
       "      <td>O1C(NC2CCN(CC2)CC3=CC(OCC)=C(OC)C=C3)=NC=4C1=C...</td>\n",
       "      <td>5.164099</td>\n",
       "      <td>46882666</td>\n",
       "      <td>pubchem</td>\n",
       "      <td>O1C(NC2CCN(CC2)CC3=CC(OCC)=C(OC)C=C3)=NC=4C1=C...</td>\n",
       "      <td>&lt;img data-content=\"rdkit/molecule\" src=\"data:image/png;base64,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\" alt=\"Mol\"/&gt;</td>\n",
       "      <td>382.464</td>\n",
       "      <td>7</td>\n",
       "      <td>1</td>\n",
       "      <td>3.70660</td>\n",
       "      <td>True</td>\n",
       "    </tr>\n",
       "    <tr>\n",
       "      <th>65266</th>\n",
       "      <td>O=C(N=C(N)N)CC=1C=CC(NC=2N=C(N=C3N(CC)C=NC32)C...</td>\n",
       "      <td>5.164137</td>\n",
       "      <td>44460095</td>\n",
       "      <td>pubchem_screening</td>\n",
       "      <td>O=C(N=C(N)N)CC=1C=CC(NC=2N=C(N=C3N(CC)C=NC32)C...</td>\n",
       "      <td>&lt;img data-content=\"rdkit/molecule\" src=\"data:image/png;base64,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\" alt=\"Mol\"/&gt;</td>\n",
       "      <td>363.385</td>\n",
       "      <td>7</td>\n",
       "      <td>3</td>\n",
       "      <td>0.80398</td>\n",
       "      <td>True</td>\n",
       "    </tr>\n",
       "    <tr>\n",
       "      <th>65267</th>\n",
       "      <td>O=C(N=C(N)N)CC=1C=CC(NC=2N=C(N=C3N(CC)C=NC32)C...</td>\n",
       "      <td>5.164137</td>\n",
       "      <td>44460095</td>\n",
       "      <td>pubchem</td>\n",
       "      <td>O=C(N=C(N)N)CC=1C=CC(NC=2N=C(N=C3N(CC)C=NC32)C...</td>\n",
       "      <td>&lt;img data-content=\"rdkit/molecule\" src=\"data:image/png;base64,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\" alt=\"Mol\"/&gt;</td>\n",
       "      <td>363.385</td>\n",
       "      <td>7</td>\n",
       "      <td>3</td>\n",
       "      <td>0.80398</td>\n",
       "      <td>True</td>\n",
       "    </tr>\n",
       "  </tbody>\n",
       "</table>\n",
       "<p>1425 rows × 11 columns</p>\n",
       "</div>"
      ],
      "text/plain": [
       "                                                  smiles     pXC50  \\\n",
       "0               OC=1N(CN2C(CCC2)CC)C=NC=3C1N=C4C3C=CC=C4  4.941354   \n",
       "3               OC=1N(CN2C(CCC2)CC)C=NC=3C1N=C4C3C=CC=C4  4.941354   \n",
       "241             OC=1N(C=NC=2C1N=C3C2C=CC=C3)CN4C(CCC4)CC  4.941354   \n",
       "248    S=1(O)(O)=CC2N(/C(/SC2C1)=N/C(=O)C3CCCCC3)C4=C...  4.999475   \n",
       "251    S=1(O)(O)=CC2N(/C(/SC2C1)=N/C(=O)C3CCCCC3)C4=C...  4.999475   \n",
       "...                                                  ...       ...   \n",
       "65263  C=1C(=NC(=C(C1)O)/C=N/O)CCCN2C(C3=CC(=C(C=C3CC...  5.164073   \n",
       "65264  O(C=1C=C2C(N(CCC2=CC1OC)CCCC3=NC(=C(O)C=C3)C=N...  5.164073   \n",
       "65265  O1C(NC2CCN(CC2)CC3=CC(OCC)=C(OC)C=C3)=NC=4C1=C...  5.164099   \n",
       "65266  O=C(N=C(N)N)CC=1C=CC(NC=2N=C(N=C3N(CC)C=NC32)C...  5.164137   \n",
       "65267  O=C(N=C(N)N)CC=1C=CC(NC=2N=C(N=C3N(CC)C=NC32)C...  5.164137   \n",
       "\n",
       "      Original_Entry_ID                 DB  \\\n",
       "0               3238198  pubchem_screening   \n",
       "3               3238198            pubchem   \n",
       "241       CHEMBL1392212           chembl20   \n",
       "248             4908209  pubchem_screening   \n",
       "251             4908209            pubchem   \n",
       "...                 ...                ...   \n",
       "65263     CHEMBL2181430           chembl20   \n",
       "65264          71453921            pubchem   \n",
       "65265          46882666            pubchem   \n",
       "65266          44460095  pubchem_screening   \n",
       "65267          44460095            pubchem   \n",
       "\n",
       "                                                  SMILES  \\\n",
       "0               OC=1N(CN2C(CCC2)CC)C=NC=3C1N=C4C3C=CC=C4   \n",
       "3               OC=1N(CN2C(CCC2)CC)C=NC=3C1N=C4C3C=CC=C4   \n",
       "241             OC=1N(C=NC=2C1N=C3C2C=CC=C3)CN4C(CCC4)CC   \n",
       "248    S=1(O)(O)=CC2N(/C(/SC2C1)=N/C(=O)C3CCCCC3)C4=C...   \n",
       "251    S=1(O)(O)=CC2N(/C(/SC2C1)=N/C(=O)C3CCCCC3)C4=C...   \n",
       "...                                                  ...   \n",
       "65263  C=1C(=NC(=C(C1)O)/C=N/O)CCCN2C(C3=CC(=C(C=C3CC...   \n",
       "65264  O(C=1C=C2C(N(CCC2=CC1OC)CCCC3=NC(=C(O)C=C3)C=N...   \n",
       "65265  O1C(NC2CCN(CC2)CC3=CC(OCC)=C(OC)C=C3)=NC=4C1=C...   \n",
       "65266  O=C(N=C(N)N)CC=1C=CC(NC=2N=C(N=C3N(CC)C=NC32)C...   \n",
       "65267  O=C(N=C(N)N)CC=1C=CC(NC=2N=C(N=C3N(CC)C=NC32)C...   \n",
       "\n",
       "                                                Molecule       MW  HA  HD  \\\n",
       "0      <img data-content=\"rdkit/molecule\" src=\"data:i...  296.374   5   1   \n",
       "3      <img data-content=\"rdkit/molecule\" src=\"data:i...  296.374   5   1   \n",
       "241    <img data-content=\"rdkit/molecule\" src=\"data:i...  296.374   5   1   \n",
       "248    <img data-content=\"rdkit/molecule\" src=\"data:i...  378.519   4   2   \n",
       "251    <img data-content=\"rdkit/molecule\" src=\"data:i...  378.519   4   2   \n",
       "...                                                  ...      ...  ..  ..   \n",
       "65263  <img data-content=\"rdkit/molecule\" src=\"data:i...  447.535   7   2   \n",
       "65264  <img data-content=\"rdkit/molecule\" src=\"data:i...  447.535   7   2   \n",
       "65265  <img data-content=\"rdkit/molecule\" src=\"data:i...  382.464   7   1   \n",
       "65266  <img data-content=\"rdkit/molecule\" src=\"data:i...  363.385   7   3   \n",
       "65267  <img data-content=\"rdkit/molecule\" src=\"data:i...  363.385   7   3   \n",
       "\n",
       "          logP  Lipinski rule  \n",
       "0      3.07360           True  \n",
       "3      3.07360           True  \n",
       "241    3.07360           True  \n",
       "248    3.80850           True  \n",
       "251    3.80850           True  \n",
       "...        ...            ...  \n",
       "65263  4.19280           True  \n",
       "65264  4.19280           True  \n",
       "65265  3.70660           True  \n",
       "65266  0.80398           True  \n",
       "65267  0.80398           True  \n",
       "\n",
       "[1425 rows x 11 columns]"
      ]
     },
     "execution_count": 45,
     "metadata": {},
     "output_type": "execute_result"
    }
   ],
   "source": [
    "swissADME = rule_of_five(swissADME)\n",
    "swissADME"
   ]
  },
  {
   "cell_type": "code",
   "execution_count": 46,
   "id": "346d327a",
   "metadata": {},
   "outputs": [],
   "source": [
    "swissADME.drop('Molecule', axis='columns', inplace=True)\n"
   ]
  },
  {
   "cell_type": "code",
   "execution_count": 1,
   "id": "47e963ab",
   "metadata": {},
   "outputs": [
    {
     "ename": "NameError",
     "evalue": "name 'swissADME' is not defined",
     "output_type": "error",
     "traceback": [
      "\u001b[0;31m---------------------------------------------------------------------------\u001b[0m",
      "\u001b[0;31mNameError\u001b[0m                                 Traceback (most recent call last)",
      "Input \u001b[0;32mIn [1]\u001b[0m, in \u001b[0;36m<cell line: 1>\u001b[0;34m()\u001b[0m\n\u001b[0;32m----> 1\u001b[0m cleaned \u001b[38;5;241m=\u001b[39m \u001b[43mswissADME\u001b[49m\u001b[38;5;241m.\u001b[39mdrop_duplicates()\n\u001b[1;32m      2\u001b[0m cleaned\u001b[38;5;241m.\u001b[39mto_csv(\u001b[38;5;124m'\u001b[39m\u001b[38;5;124mswissADME_big_1.csv\u001b[39m\u001b[38;5;124m'\u001b[39m)\n",
      "\u001b[0;31mNameError\u001b[0m: name 'swissADME' is not defined"
     ]
    }
   ],
   "source": [
    "cleaned = swissADME.drop_duplicates()\n",
    "cleaned.to_csv('swissADME_big_1.csv')"
   ]
  },
  {
   "cell_type": "code",
   "execution_count": null,
   "id": "84f5b753",
   "metadata": {},
   "outputs": [],
   "source": []
  }
 ],
 "metadata": {
  "kernelspec": {
   "display_name": "Python 3 (ipykernel)",
   "language": "python",
   "name": "python3"
  },
  "language_info": {
   "codemirror_mode": {
    "name": "ipython",
    "version": 3
   },
   "file_extension": ".py",
   "mimetype": "text/x-python",
   "name": "python",
   "nbconvert_exporter": "python",
   "pygments_lexer": "ipython3",
   "version": "3.9.12"
  }
 },
 "nbformat": 4,
 "nbformat_minor": 5
}
