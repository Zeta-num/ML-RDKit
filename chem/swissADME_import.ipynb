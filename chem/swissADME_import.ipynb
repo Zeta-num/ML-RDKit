{
 "cells": [
  {
   "cell_type": "code",
   "execution_count": 1,
   "id": "d1326148",
   "metadata": {},
   "outputs": [],
   "source": [
    "import pandas as pd"
   ]
  },
  {
   "cell_type": "code",
   "execution_count": 2,
   "id": "8a31e31e",
   "metadata": {},
   "outputs": [],
   "source": [
    "file = 'first_nn_htr6.csv'\n",
    "df = pd.read_csv(file)"
   ]
  },
  {
   "cell_type": "code",
   "execution_count": 3,
   "id": "b3094664",
   "metadata": {},
   "outputs": [
    {
     "data": {
      "text/html": [
       "<div>\n",
       "<style scoped>\n",
       "    .dataframe tbody tr th:only-of-type {\n",
       "        vertical-align: middle;\n",
       "    }\n",
       "\n",
       "    .dataframe tbody tr th {\n",
       "        vertical-align: top;\n",
       "    }\n",
       "\n",
       "    .dataframe thead th {\n",
       "        text-align: right;\n",
       "    }\n",
       "</style>\n",
       "<table border=\"1\" class=\"dataframe\">\n",
       "  <thead>\n",
       "    <tr style=\"text-align: right;\">\n",
       "      <th></th>\n",
       "      <th>Unnamed: 0</th>\n",
       "      <th>smiles</th>\n",
       "      <th>pXC50</th>\n",
       "    </tr>\n",
       "  </thead>\n",
       "  <tbody>\n",
       "    <tr>\n",
       "      <th>0</th>\n",
       "      <td>884107</td>\n",
       "      <td>OC=1N(CN2CCC(CCCC3CCN(CC3)CN4C(O)=CC=C4O)CC2)C...</td>\n",
       "      <td>5.074899</td>\n",
       "    </tr>\n",
       "    <tr>\n",
       "      <th>1</th>\n",
       "      <td>619801</td>\n",
       "      <td>OC=1N(C=NC=2C1N=C3C2C=CC=C3)CN4C(CCC4)CC</td>\n",
       "      <td>5.078511</td>\n",
       "    </tr>\n",
       "    <tr>\n",
       "      <th>2</th>\n",
       "      <td>460180</td>\n",
       "      <td>OC=1N(CN2C(CCC2)CC)C=NC=3C1N=C4C3C=CC=C4</td>\n",
       "      <td>5.078511</td>\n",
       "    </tr>\n",
       "    <tr>\n",
       "      <th>3</th>\n",
       "      <td>723170</td>\n",
       "      <td>C1(=C(C2=CC=CC=C2N1C)C(NCC(O)CO)=O)SSC3=C(C=4C...</td>\n",
       "      <td>5.097253</td>\n",
       "    </tr>\n",
       "    <tr>\n",
       "      <th>4</th>\n",
       "      <td>339493</td>\n",
       "      <td>O[N+]=1[N+](O)=C(C(=NO)C1C=2C=CC=CC2)CC</td>\n",
       "      <td>5.099036</td>\n",
       "    </tr>\n",
       "  </tbody>\n",
       "</table>\n",
       "</div>"
      ],
      "text/plain": [
       "   Unnamed: 0                                             smiles     pXC50\n",
       "0      884107  OC=1N(CN2CCC(CCCC3CCN(CC3)CN4C(O)=CC=C4O)CC2)C...  5.074899\n",
       "1      619801           OC=1N(C=NC=2C1N=C3C2C=CC=C3)CN4C(CCC4)CC  5.078511\n",
       "2      460180           OC=1N(CN2C(CCC2)CC)C=NC=3C1N=C4C3C=CC=C4  5.078511\n",
       "3      723170  C1(=C(C2=CC=CC=C2N1C)C(NCC(O)CO)=O)SSC3=C(C=4C...  5.097253\n",
       "4      339493            O[N+]=1[N+](O)=C(C(=NO)C1C=2C=CC=CC2)CC  5.099036"
      ]
     },
     "execution_count": 3,
     "metadata": {},
     "output_type": "execute_result"
    }
   ],
   "source": [
    "df.head()"
   ]
  },
  {
   "cell_type": "code",
   "execution_count": 4,
   "id": "9ef3ce35",
   "metadata": {},
   "outputs": [
    {
     "data": {
      "text/html": [
       "<div>\n",
       "<style scoped>\n",
       "    .dataframe tbody tr th:only-of-type {\n",
       "        vertical-align: middle;\n",
       "    }\n",
       "\n",
       "    .dataframe tbody tr th {\n",
       "        vertical-align: top;\n",
       "    }\n",
       "\n",
       "    .dataframe thead th {\n",
       "        text-align: right;\n",
       "    }\n",
       "</style>\n",
       "<table border=\"1\" class=\"dataframe\">\n",
       "  <thead>\n",
       "    <tr style=\"text-align: right;\">\n",
       "      <th></th>\n",
       "      <th>Unnamed: 0</th>\n",
       "      <th>smiles</th>\n",
       "      <th>pXC50</th>\n",
       "    </tr>\n",
       "  </thead>\n",
       "  <tbody>\n",
       "    <tr>\n",
       "      <th>1062606</th>\n",
       "      <td>17900</td>\n",
       "      <td>N1(C2[C@@H]([C@H](O)[C@H](O2)CO)O)C=3C(=C(NCC4...</td>\n",
       "      <td>9.916413</td>\n",
       "    </tr>\n",
       "    <tr>\n",
       "      <th>1062605</th>\n",
       "      <td>367600</td>\n",
       "      <td>N1(C2[C@@H]([C@H](O)[C@H](O2)CO)O)C=3C(=C(NCC4...</td>\n",
       "      <td>9.912755</td>\n",
       "    </tr>\n",
       "    <tr>\n",
       "      <th>1062604</th>\n",
       "      <td>665237</td>\n",
       "      <td>N1(C2[C@@H]([C@H](O)[C@H](O2)CO)O)C=3C(=C(NC4C...</td>\n",
       "      <td>9.896688</td>\n",
       "    </tr>\n",
       "    <tr>\n",
       "      <th>1062603</th>\n",
       "      <td>838060</td>\n",
       "      <td>N1(C2[C@@H]([C@H](O)[C@H](O2)CO)O)C=3C(=C(N[C@...</td>\n",
       "      <td>9.896688</td>\n",
       "    </tr>\n",
       "    <tr>\n",
       "      <th>1062602</th>\n",
       "      <td>34029</td>\n",
       "      <td>N1(C2[C@@H]([C@H](O)[C@H](O2)CO)O)C=3C(=C(N[C@...</td>\n",
       "      <td>9.896688</td>\n",
       "    </tr>\n",
       "  </tbody>\n",
       "</table>\n",
       "</div>"
      ],
      "text/plain": [
       "         Unnamed: 0                                             smiles  \\\n",
       "1062606       17900  N1(C2[C@@H]([C@H](O)[C@H](O2)CO)O)C=3C(=C(NCC4...   \n",
       "1062605      367600  N1(C2[C@@H]([C@H](O)[C@H](O2)CO)O)C=3C(=C(NCC4...   \n",
       "1062604      665237  N1(C2[C@@H]([C@H](O)[C@H](O2)CO)O)C=3C(=C(NC4C...   \n",
       "1062603      838060  N1(C2[C@@H]([C@H](O)[C@H](O2)CO)O)C=3C(=C(N[C@...   \n",
       "1062602       34029  N1(C2[C@@H]([C@H](O)[C@H](O2)CO)O)C=3C(=C(N[C@...   \n",
       "\n",
       "            pXC50  \n",
       "1062606  9.916413  \n",
       "1062605  9.912755  \n",
       "1062604  9.896688  \n",
       "1062603  9.896688  \n",
       "1062602  9.896688  "
      ]
     },
     "execution_count": 4,
     "metadata": {},
     "output_type": "execute_result"
    }
   ],
   "source": [
    "#\n",
    "df.sort_values(by='pXC50', ascending=False, inplace=True)\n",
    "df.head()\n"
   ]
  },
  {
   "cell_type": "code",
   "execution_count": 5,
   "id": "92ce8c05",
   "metadata": {},
   "outputs": [
    {
     "data": {
      "text/plain": [
       "(1062737, 3)"
      ]
     },
     "execution_count": 5,
     "metadata": {},
     "output_type": "execute_result"
    }
   ],
   "source": [
    "df.shape"
   ]
  },
  {
   "cell_type": "code",
   "execution_count": 6,
   "id": "d43e17c9",
   "metadata": {},
   "outputs": [
    {
     "data": {
      "text/plain": [
       "(598277, 3)"
      ]
     },
     "execution_count": 6,
     "metadata": {},
     "output_type": "execute_result"
    }
   ],
   "source": [
    "df_no_duplicates = df.drop_duplicates(subset=['pXC50'])\n",
    "df_no_duplicates.shape"
   ]
  },
  {
   "cell_type": "code",
   "execution_count": 7,
   "id": "f0bed535",
   "metadata": {},
   "outputs": [
    {
     "data": {
      "text/html": [
       "<div>\n",
       "<style scoped>\n",
       "    .dataframe tbody tr th:only-of-type {\n",
       "        vertical-align: middle;\n",
       "    }\n",
       "\n",
       "    .dataframe tbody tr th {\n",
       "        vertical-align: top;\n",
       "    }\n",
       "\n",
       "    .dataframe thead th {\n",
       "        text-align: right;\n",
       "    }\n",
       "</style>\n",
       "<table border=\"1\" class=\"dataframe\">\n",
       "  <thead>\n",
       "    <tr style=\"text-align: right;\">\n",
       "      <th></th>\n",
       "      <th>Unnamed: 0</th>\n",
       "      <th>smiles</th>\n",
       "      <th>pXC50</th>\n",
       "    </tr>\n",
       "  </thead>\n",
       "  <tbody>\n",
       "    <tr>\n",
       "      <th>1062606</th>\n",
       "      <td>17900</td>\n",
       "      <td>N1(C2[C@@H]([C@H](O)[C@H](O2)CO)O)C=3C(=C(NCC4...</td>\n",
       "      <td>9.916413</td>\n",
       "    </tr>\n",
       "    <tr>\n",
       "      <th>1062605</th>\n",
       "      <td>367600</td>\n",
       "      <td>N1(C2[C@@H]([C@H](O)[C@H](O2)CO)O)C=3C(=C(NCC4...</td>\n",
       "      <td>9.912755</td>\n",
       "    </tr>\n",
       "    <tr>\n",
       "      <th>1062604</th>\n",
       "      <td>665237</td>\n",
       "      <td>N1(C2[C@@H]([C@H](O)[C@H](O2)CO)O)C=3C(=C(NC4C...</td>\n",
       "      <td>9.896688</td>\n",
       "    </tr>\n",
       "    <tr>\n",
       "      <th>1062601</th>\n",
       "      <td>803188</td>\n",
       "      <td>N1(C2[C@@H]([C@H](O)[C@H](O2)CO)O)C=3C(=C(NC4C...</td>\n",
       "      <td>9.896200</td>\n",
       "    </tr>\n",
       "    <tr>\n",
       "      <th>1062600</th>\n",
       "      <td>898654</td>\n",
       "      <td>ClC1=C(C=C([C@@H]2O[C@@H]([C@@H](O)[C@H](O)[C@...</td>\n",
       "      <td>9.893994</td>\n",
       "    </tr>\n",
       "    <tr>\n",
       "      <th>1062599</th>\n",
       "      <td>847167</td>\n",
       "      <td>N1(C2[C@@H]([C@H](O)[C@H](O2)CO)O)C3=C(C(NCC4C...</td>\n",
       "      <td>9.892296</td>\n",
       "    </tr>\n",
       "    <tr>\n",
       "      <th>1062598</th>\n",
       "      <td>528485</td>\n",
       "      <td>N1(C2[C@@H]([C@H](O)[C@H](O2)CO)O)C=3C(=C(N[C@...</td>\n",
       "      <td>9.891612</td>\n",
       "    </tr>\n",
       "    <tr>\n",
       "      <th>1062595</th>\n",
       "      <td>220310</td>\n",
       "      <td>N1(C2[C@@H]([C@H](O)[C@H](O2)CO)O)C=3C(=C(NC4C...</td>\n",
       "      <td>9.888994</td>\n",
       "    </tr>\n",
       "    <tr>\n",
       "      <th>1062594</th>\n",
       "      <td>806910</td>\n",
       "      <td>C=1C=C(C(=CC1[C@H]2[C@@H]([C@H]([C@@H]([C@H](O...</td>\n",
       "      <td>9.886926</td>\n",
       "    </tr>\n",
       "    <tr>\n",
       "      <th>1062593</th>\n",
       "      <td>189768</td>\n",
       "      <td>N1(C2[C@@H]([C@H](O)[C@H](O2)CO)O)C=3C(=C(NC4C...</td>\n",
       "      <td>9.880793</td>\n",
       "    </tr>\n",
       "  </tbody>\n",
       "</table>\n",
       "</div>"
      ],
      "text/plain": [
       "         Unnamed: 0                                             smiles  \\\n",
       "1062606       17900  N1(C2[C@@H]([C@H](O)[C@H](O2)CO)O)C=3C(=C(NCC4...   \n",
       "1062605      367600  N1(C2[C@@H]([C@H](O)[C@H](O2)CO)O)C=3C(=C(NCC4...   \n",
       "1062604      665237  N1(C2[C@@H]([C@H](O)[C@H](O2)CO)O)C=3C(=C(NC4C...   \n",
       "1062601      803188  N1(C2[C@@H]([C@H](O)[C@H](O2)CO)O)C=3C(=C(NC4C...   \n",
       "1062600      898654  ClC1=C(C=C([C@@H]2O[C@@H]([C@@H](O)[C@H](O)[C@...   \n",
       "1062599      847167  N1(C2[C@@H]([C@H](O)[C@H](O2)CO)O)C3=C(C(NCC4C...   \n",
       "1062598      528485  N1(C2[C@@H]([C@H](O)[C@H](O2)CO)O)C=3C(=C(N[C@...   \n",
       "1062595      220310  N1(C2[C@@H]([C@H](O)[C@H](O2)CO)O)C=3C(=C(NC4C...   \n",
       "1062594      806910  C=1C=C(C(=CC1[C@H]2[C@@H]([C@H]([C@@H]([C@H](O...   \n",
       "1062593      189768  N1(C2[C@@H]([C@H](O)[C@H](O2)CO)O)C=3C(=C(NC4C...   \n",
       "\n",
       "            pXC50  \n",
       "1062606  9.916413  \n",
       "1062605  9.912755  \n",
       "1062604  9.896688  \n",
       "1062601  9.896200  \n",
       "1062600  9.893994  \n",
       "1062599  9.892296  \n",
       "1062598  9.891612  \n",
       "1062595  9.888994  \n",
       "1062594  9.886926  \n",
       "1062593  9.880793  "
      ]
     },
     "execution_count": 7,
     "metadata": {},
     "output_type": "execute_result"
    }
   ],
   "source": [
    "df_no_duplicates.head(10)"
   ]
  },
  {
   "cell_type": "code",
   "execution_count": 8,
   "id": "580c7e0c",
   "metadata": {},
   "outputs": [],
   "source": [
    "#df_no_duplicates.smiles[:10].to_csv('adme.csv')"
   ]
  },
  {
   "cell_type": "code",
   "execution_count": 9,
   "id": "39510418",
   "metadata": {},
   "outputs": [],
   "source": [
    "base = 'pubchem.chembl.dataset4publication_inchi_smiles_v2.tsv'\n",
    "base_tsv = pd.read_csv(base, sep='\\t', usecols=['DB', 'Original_Entry_ID', 'SMILES'])"
   ]
  },
  {
   "cell_type": "code",
   "execution_count": 10,
   "id": "a75c52ca",
   "metadata": {},
   "outputs": [],
   "source": [
    "merged = pd.merge(df,base_tsv,left_on='smiles', right_on='SMILES', how='inner')"
   ]
  },
  {
   "cell_type": "code",
   "execution_count": 11,
   "id": "86644239",
   "metadata": {},
   "outputs": [
    {
     "data": {
      "text/plain": [
       "(56853341, 6)"
      ]
     },
     "execution_count": 11,
     "metadata": {},
     "output_type": "execute_result"
    }
   ],
   "source": [
    "#new = new.drop(labels='SMILES', axis=1)\n",
    "merged.shape"
   ]
  },
  {
   "cell_type": "code",
   "execution_count": 13,
   "id": "3f4dd065",
   "metadata": {},
   "outputs": [
    {
     "data": {
      "text/plain": [
       "(2125557, 6)"
      ]
     },
     "execution_count": 13,
     "metadata": {},
     "output_type": "execute_result"
    }
   ],
   "source": [
    "merged = merged[merged.DB == 'chembl20']\n",
    "merged.shape"
   ]
  },
  {
   "cell_type": "code",
   "execution_count": 15,
   "id": "52cb6b1d",
   "metadata": {},
   "outputs": [
    {
     "data": {
      "text/plain": [
       "(535281, 6)"
      ]
     },
     "execution_count": 15,
     "metadata": {},
     "output_type": "execute_result"
    }
   ],
   "source": [
    "unique_chembl = merged.drop_duplicates(subset='Original_Entry_ID')\n",
    "unique_chembl.shape"
   ]
  },
  {
   "cell_type": "code",
   "execution_count": 17,
   "id": "2dddad7a",
   "metadata": {},
   "outputs": [],
   "source": [
    "unique_chembl.to_csv('unique_chembl.csv')"
   ]
  },
  {
   "cell_type": "code",
   "execution_count": null,
   "id": "6c183765",
   "metadata": {},
   "outputs": [],
   "source": []
  }
 ],
 "metadata": {
  "kernelspec": {
   "display_name": "Python 3 (ipykernel)",
   "language": "python",
   "name": "python3"
  },
  "language_info": {
   "codemirror_mode": {
    "name": "ipython",
    "version": 3
   },
   "file_extension": ".py",
   "mimetype": "text/x-python",
   "name": "python",
   "nbconvert_exporter": "python",
   "pygments_lexer": "ipython3",
   "version": "3.9.12"
  }
 },
 "nbformat": 4,
 "nbformat_minor": 5
}
